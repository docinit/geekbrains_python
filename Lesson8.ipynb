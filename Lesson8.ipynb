{
  "nbformat": 4,
  "nbformat_minor": 0,
  "metadata": {
    "colab": {
      "name": "Lesson8.ipynb",
      "provenance": [],
      "collapsed_sections": [],
      "authorship_tag": "ABX9TyNw1fHb2OgDKJ/8Bycyy+Fv",
      "include_colab_link": true
    },
    "kernelspec": {
      "name": "python3",
      "display_name": "Python 3"
    }
  },
  "cells": [
    {
      "cell_type": "markdown",
      "metadata": {
        "id": "view-in-github",
        "colab_type": "text"
      },
      "source": [
        "<a href=\"https://colab.research.google.com/github/docinit/geekbrains_python/blob/Python_lesson8/Lesson8.ipynb\" target=\"_parent\"><img src=\"https://colab.research.google.com/assets/colab-badge.svg\" alt=\"Open In Colab\"/></a>"
      ]
    },
    {
      "cell_type": "markdown",
      "metadata": {
        "id": "MzdF9OdJKS2J",
        "colab_type": "text"
      },
      "source": [
        "#### Задание 1\n",
        "* Импортируйте библиотеки pandas, numpy и matplotlib.\n",
        "*Загрузите \"Boston House Prices dataset\" из встроенных наборов данных библиотеки sklearn.\n",
        "*Создайте датафреймы X и y из этих данных.\n",
        "*Разбейте эти датафреймы на тренировочные (X_train, y_train) и тестовые (X_test, y_test) с помощью функции train_test_split так, чтобы размер тестовой выборки\n",
        "составлял 20% от всех данных, при этом аргумент random_state должен быть равен 42.\n",
        "* Масштабируйте данные с помощью StandardScaler.\n",
        "* Постройте модель TSNE на тренировочный данных с параметрами:\n",
        "  * n_components=2, learning_rate=250, random_state=42.\n",
        "* Постройте диаграмму рассеяния на этих данных.\n"
      ]
    },
    {
      "cell_type": "code",
      "metadata": {
        "id": "vEWBFm5jgilw",
        "colab_type": "code",
        "colab": {}
      },
      "source": [
        "import pandas as pd\n",
        "import numpy as np\n",
        "\n",
        "from sklearn.datasets import load_boston\n",
        "\n",
        "from matplotlib import pyplot as plt\n",
        "from sklearn.model_selection import train_test_split\n",
        "from sklearn.preprocessing import StandardScaler\n",
        "from sklearn.manifold import TSNE\n",
        "from sklearn.cluster import KMeans"
      ],
      "execution_count": 0,
      "outputs": []
    },
    {
      "cell_type": "code",
      "metadata": {
        "id": "SbeZ-KlTg9q_",
        "colab_type": "code",
        "colab": {}
      },
      "source": [
        "X,y = load_boston(return_X_y=True)"
      ],
      "execution_count": 0,
      "outputs": []
    },
    {
      "cell_type": "code",
      "metadata": {
        "id": "p5tL6hmBhrw8",
        "colab_type": "code",
        "colab": {}
      },
      "source": [
        "x_train,x_test,y_train,y_test = train_test_split(X,y,test_size = 0.2, random_state = 42)"
      ],
      "execution_count": 0,
      "outputs": []
    },
    {
      "cell_type": "code",
      "metadata": {
        "id": "HvAIUhbIiG9I",
        "colab_type": "code",
        "colab": {}
      },
      "source": [
        "scaler = StandardScaler()\n",
        "x_train_scaled = scaler.fit_transform(x_train)\n",
        "x_test_scaled = scaler.transform(x_test)"
      ],
      "execution_count": 0,
      "outputs": []
    },
    {
      "cell_type": "code",
      "metadata": {
        "id": "Pkr-RJhPipDS",
        "colab_type": "code",
        "colab": {
          "base_uri": "https://localhost:8080/",
          "height": 52
        },
        "outputId": "582368e9-33b7-4a4c-f67c-cf55a6d7e48a"
      },
      "source": [
        "tsne = TSNE(n_components=2, learning_rate=150, random_state=42)\n",
        "x_train_tsne = tsne.fit_transform(x_train_scaled)\n",
        "print(f'До применения алгоритма TSNE {x_train_scaled.shape}')\n",
        "print(f'После применения алгоритма TSNE {x_train_tsne.shape}')"
      ],
      "execution_count": 5,
      "outputs": [
        {
          "output_type": "stream",
          "text": [
            "До применения алгоритма TSNE (404, 13)\n",
            "После применения алгоритма TSNE (404, 2)\n"
          ],
          "name": "stdout"
        }
      ]
    },
    {
      "cell_type": "code",
      "metadata": {
        "id": "sFZ9laaDj-WJ",
        "colab_type": "code",
        "colab": {
          "base_uri": "https://localhost:8080/",
          "height": 296
        },
        "outputId": "8f6601f3-cc58-4fdd-ba34-75c05655771c"
      },
      "source": [
        "plt.scatter(x_train_tsne[:,0],x_train_tsne[:,1])\n",
        "plt.title('Диаграмма рассеяния\\nпосле применения алгоритма TSNE')\n",
        "plt.show()"
      ],
      "execution_count": 6,
      "outputs": [
        {
          "output_type": "display_data",
          "data": {
            "image/png": "[encoded data removed]",
            "text/plain": [
              "<Figure size 432x288 with 1 Axes>"
            ]
          },
          "metadata": {
            "tags": []
          }
        }
      ]
    },
    {
      "cell_type": "markdown",
      "metadata": {
        "id": "KvNSZnp_LmMi",
        "colab_type": "text"
      },
      "source": [
        "#### Задание 2\n",
        "* С помощью KMeans разбейте данные из тренировочного набора на 3 кластера используйте все признаки из датафрейма X_train.\n",
        "* Параметр max_iter должен быть равен 100, random_state сделайте равным 42.\n",
        "* Постройте еще раз диаграмму рассеяния на данных, полученных с помощью TSNE, и раскрасьте точки из разных кластеров разными цветами.\n",
        "* Вычислите средние значения price и CRIM в разных кластерах.\n"
      ]
    },
    {
      "cell_type": "code",
      "metadata": {
        "id": "AgiqkeeekkVd",
        "colab_type": "code",
        "colab": {
          "base_uri": "https://localhost:8080/",
          "height": 266
        },
        "outputId": "0c1ab6f2-b5fd-44a3-de26-4a7a05b0e980"
      },
      "source": [
        "kmeans = KMeans(n_clusters=3,max_iter=100,random_state=42)\n",
        "\n",
        "labels_train = kmeans.fit_predict(x_train_scaled)\n",
        "\n",
        "plt.scatter(x_train_tsne[:, 0], x_train_tsne[:, 1], c=labels_train)\n",
        "\n",
        "plt.show()"
      ],
      "execution_count": 7,
      "outputs": [
        {
          "output_type": "display_data",
          "data": {
            "image/png": "[encoded data removed]",
            "text/plain": [
              "<Figure size 432x288 with 1 Axes>"
            ]
          },
          "metadata": {
            "tags": []
          }
        }
      ]
    },
    {
      "cell_type": "markdown",
      "metadata": {
        "id": "8Q3SSqz7KDJL",
        "colab_type": "text"
      },
      "source": [
        "#### Средний CRIM для тренировочной выборки"
      ]
    },
    {
      "cell_type": "code",
      "metadata": {
        "id": "Lodwtj0A8HTO",
        "colab_type": "code",
        "colab": {
          "base_uri": "https://localhost:8080/",
          "height": 35
        },
        "outputId": "736af1a9-bc10-412e-d837-a5b70e9d3aab"
      },
      "source": [
        "crim_0 = pd.DataFrame(x_train[labels_train == 0],columns = load_boston().feature_names).loc[:,'CRIM'].mean()\n",
        "print(f'Средний показатель CRIM для кластера 0 = {round(crim_0,2)}')"
      ],
      "execution_count": 8,
      "outputs": [
        {
          "output_type": "stream",
          "text": [
            "Средний показатель CRIM для кластера 0 = 0.42\n"
          ],
          "name": "stdout"
        }
      ]
    },
    {
      "cell_type": "code",
      "metadata": {
        "id": "9GoFwoU58RZx",
        "colab_type": "code",
        "colab": {
          "base_uri": "https://localhost:8080/",
          "height": 35
        },
        "outputId": "8d0b2646-182c-42c7-a60e-a30f52d515ee"
      },
      "source": [
        "crim_1 = pd.DataFrame(x_train[labels_train == 1],columns = load_boston().feature_names).loc[:,'CRIM'].mean()\n",
        "print(f'Средний показатель CRIM для кластера 1 = {round(crim_1,2)}')"
      ],
      "execution_count": 9,
      "outputs": [
        {
          "output_type": "stream",
          "text": [
            "Средний показатель CRIM для кластера 1 = 10.8\n"
          ],
          "name": "stdout"
        }
      ]
    },
    {
      "cell_type": "code",
      "metadata": {
        "id": "_mUJbrTl9xpN",
        "colab_type": "code",
        "colab": {
          "base_uri": "https://localhost:8080/",
          "height": 35
        },
        "outputId": "103cc56e-620f-4951-f674-44439b26ab11"
      },
      "source": [
        "crim_2 = pd.DataFrame(x_train[labels_train == 2],columns = load_boston().feature_names).loc[:,'CRIM'].mean()\n",
        "print(f'Средний показатель CRIM для кластера 2 = {round(crim_2,2)}')"
      ],
      "execution_count": 10,
      "outputs": [
        {
          "output_type": "stream",
          "text": [
            "Средний показатель CRIM для кластера 2 = 0.07\n"
          ],
          "name": "stdout"
        }
      ]
    },
    {
      "cell_type": "markdown",
      "metadata": {
        "id": "BEUEPlr6J9_Z",
        "colab_type": "text"
      },
      "source": [
        "#### Средние цены для тренировочной выборки"
      ]
    },
    {
      "cell_type": "code",
      "metadata": {
        "id": "zy6leU1z9zYR",
        "colab_type": "code",
        "colab": {
          "base_uri": "https://localhost:8080/",
          "height": 35
        },
        "outputId": "c5c0545e-2daf-47da-fa0b-a11d9e39bc73"
      },
      "source": [
        "price_0 = y_train[labels_train == 0].mean()\n",
        "print(f'Средняя цена для кластера 0 = {round(price_0,2)}')"
      ],
      "execution_count": 11,
      "outputs": [
        {
          "output_type": "stream",
          "text": [
            "Средняя цена для кластера 0 = 24.96\n"
          ],
          "name": "stdout"
        }
      ]
    },
    {
      "cell_type": "code",
      "metadata": {
        "id": "xOM7SpOk-EHt",
        "colab_type": "code",
        "colab": {
          "base_uri": "https://localhost:8080/",
          "height": 35
        },
        "outputId": "8032f718-595e-491b-b80c-5164a4b71968"
      },
      "source": [
        "price_1 = y_train[labels_train == 1].mean()\n",
        "print(f'Средняя цена для кластера 1 = {round(price_1,2)}')"
      ],
      "execution_count": 12,
      "outputs": [
        {
          "output_type": "stream",
          "text": [
            "Средняя цена для кластера 1 = 16.17\n"
          ],
          "name": "stdout"
        }
      ]
    },
    {
      "cell_type": "code",
      "metadata": {
        "id": "A9paijYo-0UJ",
        "colab_type": "code",
        "colab": {
          "base_uri": "https://localhost:8080/",
          "height": 35
        },
        "outputId": "110f9e6e-eff9-4c04-ef24-80919b1045e0"
      },
      "source": [
        "price_2 = y_train[labels_train == 2].mean()\n",
        "print(f'Средняя цена для кластера 2 = {round(price_2,2)}')"
      ],
      "execution_count": 13,
      "outputs": [
        {
          "output_type": "stream",
          "text": [
            "Средняя цена для кластера 2 = 27.79\n"
          ],
          "name": "stdout"
        }
      ]
    },
    {
      "cell_type": "markdown",
      "metadata": {
        "id": "LPfkXkAHMK30",
        "colab_type": "text"
      },
      "source": [
        "#### * Задание 3\n",
        "* Примените модель KMeans, построенную в предыдущем задании, к данным из тестового набора.\n",
        "* Вычислите средние значения price и CRIM в разных кластерах на тестовых данных."
      ]
    },
    {
      "cell_type": "code",
      "metadata": {
        "id": "MAi8pnjnDoeB",
        "colab_type": "code",
        "colab": {}
      },
      "source": [
        "labels_test = kmeans.predict(x_test_scaled)"
      ],
      "execution_count": 0,
      "outputs": []
    },
    {
      "cell_type": "markdown",
      "metadata": {
        "id": "jc_60y70J4Eh",
        "colab_type": "text"
      },
      "source": [
        "#### Средний CRIM для тестовой выборки"
      ]
    },
    {
      "cell_type": "code",
      "metadata": {
        "id": "OKOvsrjzIgnh",
        "colab_type": "code",
        "colab": {
          "base_uri": "https://localhost:8080/",
          "height": 35
        },
        "outputId": "c0b61973-70dc-4f9d-a07f-5aa792ee3826"
      },
      "source": [
        "crim_0_test = pd.DataFrame(x_test[labels_test == 0],columns = load_boston().feature_names).loc[:,'CRIM'].mean()\n",
        "print(f'Средний показатель CRIM для кластера 0 = {round(crim_0_test,2)}')"
      ],
      "execution_count": 15,
      "outputs": [
        {
          "output_type": "stream",
          "text": [
            "Средний показатель CRIM для кластера 0 = 0.27\n"
          ],
          "name": "stdout"
        }
      ]
    },
    {
      "cell_type": "code",
      "metadata": {
        "id": "f5YReZT5H20T",
        "colab_type": "code",
        "colab": {
          "base_uri": "https://localhost:8080/",
          "height": 35
        },
        "outputId": "4762cfa6-62fc-47c7-af5f-43c315cc553c"
      },
      "source": [
        "crim_1_test = pd.DataFrame(x_test[labels_test == 1],columns = load_boston().feature_names).loc[:,'CRIM'].mean()\n",
        "print(f'Средний показатель CRIM для кластера 1 = {round(crim_1_test,2)}')"
      ],
      "execution_count": 16,
      "outputs": [
        {
          "output_type": "stream",
          "text": [
            "Средний показатель CRIM для кластера 1 = 10.17\n"
          ],
          "name": "stdout"
        }
      ]
    },
    {
      "cell_type": "code",
      "metadata": {
        "id": "yzLNDtg9H7s4",
        "colab_type": "code",
        "colab": {
          "base_uri": "https://localhost:8080/",
          "height": 35
        },
        "outputId": "7dab7230-95da-4aca-c2d1-ccc6a6ccb2c5"
      },
      "source": [
        "crim_2_test = pd.DataFrame(x_test[labels_test == 2],columns = load_boston().feature_names).loc[:,'CRIM'].mean()\n",
        "print(f'Средний показатель CRIM для кластера 2 = {round(crim_2_test,2)}')"
      ],
      "execution_count": 17,
      "outputs": [
        {
          "output_type": "stream",
          "text": [
            "Средний показатель CRIM для кластера 2 = 0.06\n"
          ],
          "name": "stdout"
        }
      ]
    },
    {
      "cell_type": "markdown",
      "metadata": {
        "id": "rMQ6nRfwJw7Y",
        "colab_type": "text"
      },
      "source": [
        "#### Средние цены для тестовой выборки"
      ]
    },
    {
      "cell_type": "code",
      "metadata": {
        "id": "iSYTw42SJWo-",
        "colab_type": "code",
        "colab": {
          "base_uri": "https://localhost:8080/",
          "height": 35
        },
        "outputId": "c34f0b61-3a24-41df-d144-cf25100611b7"
      },
      "source": [
        "price_0_test = y_test[labels_test == 0].mean()\n",
        "print(f'Средняя цена для кластера 0 = {round(price_0_test,2)}')"
      ],
      "execution_count": 18,
      "outputs": [
        {
          "output_type": "stream",
          "text": [
            "Средняя цена для кластера 0 = 21.86\n"
          ],
          "name": "stdout"
        }
      ]
    },
    {
      "cell_type": "code",
      "metadata": {
        "id": "rMMW5qlkJVzx",
        "colab_type": "code",
        "colab": {
          "base_uri": "https://localhost:8080/",
          "height": 35
        },
        "outputId": "db8d90b4-1094-45df-e243-b78440733685"
      },
      "source": [
        "price_1_test = y_test[labels_test == 1].mean()\n",
        "print(f'Средняя цена для кластера 1 = {round(price_1_test,2)}')"
      ],
      "execution_count": 19,
      "outputs": [
        {
          "output_type": "stream",
          "text": [
            "Средняя цена для кластера 1 = 16.44\n"
          ],
          "name": "stdout"
        }
      ]
    },
    {
      "cell_type": "code",
      "metadata": {
        "id": "dRyV2VxeItk5",
        "colab_type": "code",
        "colab": {
          "base_uri": "https://localhost:8080/",
          "height": 35
        },
        "outputId": "f1d5d779-5fbc-47e7-9c5c-0ab137c9637b"
      },
      "source": [
        "price_2_test = y_test[labels_test == 2].mean()\n",
        "print(f'Средняя цена для кластера 2 = {round(price_2_test,2)}')"
      ],
      "execution_count": 20,
      "outputs": [
        {
          "output_type": "stream",
          "text": [
            "Средняя цена для кластера 2 = 31.35\n"
          ],
          "name": "stdout"
        }
      ]
    },
    {
      "cell_type": "code",
      "metadata": {
        "id": "SqjQgRA_IyeF",
        "colab_type": "code",
        "colab": {}
      },
      "source": [
        ""
      ],
      "execution_count": 0,
      "outputs": []
    }
  ]
}